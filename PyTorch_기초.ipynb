{
  "cells": [
    {
      "cell_type": "markdown",
      "metadata": {
        "id": "view-in-github",
        "colab_type": "text"
      },
      "source": [
        "<a href=\"https://colab.research.google.com/github/KwonTaekhyun/Python-Practice/blob/main/PyTorch_%EA%B8%B0%EC%B4%88.ipynb\" target=\"_parent\"><img src=\"https://colab.research.google.com/assets/colab-badge.svg\" alt=\"Open In Colab\"/></a>"
      ]
    },
    {
      "cell_type": "markdown",
      "metadata": {
        "id": "dKoPDCjCVUVn"
      },
      "source": [
        "# Pytorch Basics\n",
        "\n",
        "- Stevens, Antiga and Viehmann (2020), \"Deep Learning with PyTorch\" 참고\n",
        "- PyTorch tutorial website 참고(https://tutorials.pytorch.kr/beginner/deep_learning_60min_blitz.html)"
      ]
    },
    {
      "cell_type": "markdown",
      "metadata": {
        "id": "V-XO4CJ-VdYJ"
      },
      "source": [
        "### **PyTorch**\n",
        "* provides multidimensional arrays -> Tensor\n",
        "* *tensors*, and an extensive *library of operations* on them"
      ]
    },
    {
      "cell_type": "code",
      "source": [
        "!pip list\n",
        "# Deep learning에서 PyTorch version에 따라서 에러나 arguments가 다를 수 있다."
      ],
      "metadata": {
        "colab": {
          "base_uri": "https://localhost:8080/"
        },
        "id": "5O_BU8z8SxCM",
        "outputId": "1090c41d-4d13-4263-e5f0-a4909550e29f"
      },
      "execution_count": 2,
      "outputs": [
        {
          "output_type": "stream",
          "name": "stdout",
          "text": [
            "Package                       Version\n",
            "----------------------------- ----------------------------\n",
            "absl-py                       1.2.0\n",
            "aeppl                         0.0.33\n",
            "aesara                        2.7.9\n",
            "aiohttp                       3.8.1\n",
            "aiosignal                     1.2.0\n",
            "alabaster                     0.7.12\n",
            "albumentations                1.2.1\n",
            "altair                        4.2.0\n",
            "appdirs                       1.4.4\n",
            "arviz                         0.12.1\n",
            "astor                         0.8.1\n",
            "astropy                       4.3.1\n",
            "astunparse                    1.6.3\n",
            "async-timeout                 4.0.2\n",
            "asynctest                     0.13.0\n",
            "atari-py                      0.2.9\n",
            "atomicwrites                  1.4.1\n",
            "attrs                         22.1.0\n",
            "audioread                     3.0.0\n",
            "autograd                      1.4\n",
            "Babel                         2.10.3\n",
            "backcall                      0.2.0\n",
            "beautifulsoup4                4.6.3\n",
            "bleach                        5.0.1\n",
            "blis                          0.7.8\n",
            "bokeh                         2.3.3\n",
            "branca                        0.5.0\n",
            "bs4                           0.0.1\n",
            "CacheControl                  0.12.11\n",
            "cached-property               1.5.2\n",
            "cachetools                    4.2.4\n",
            "catalogue                     2.0.8\n",
            "certifi                       2022.6.15\n",
            "cffi                          1.15.1\n",
            "cftime                        1.6.1\n",
            "chardet                       3.0.4\n",
            "charset-normalizer            2.1.1\n",
            "click                         7.1.2\n",
            "clikit                        0.6.2\n",
            "cloudpickle                   1.5.0\n",
            "cmake                         3.22.6\n",
            "cmdstanpy                     1.0.7\n",
            "colorcet                      3.0.0\n",
            "colorlover                    0.3.0\n",
            "community                     1.0.0b1\n",
            "cons                          0.4.5\n",
            "contextlib2                   0.5.5\n",
            "convertdate                   2.4.0\n",
            "crashtest                     0.3.1\n",
            "crcmod                        1.7\n",
            "cufflinks                     0.17.3\n",
            "cupy-cuda111                  9.4.0\n",
            "cvxopt                        1.3.0\n",
            "cvxpy                         1.2.1\n",
            "cycler                        0.11.0\n",
            "cymem                         2.0.6\n",
            "Cython                        0.29.32\n",
            "daft                          0.0.4\n",
            "dask                          2022.2.0\n",
            "datascience                   0.17.5\n",
            "debugpy                       1.0.0\n",
            "decorator                     4.4.2\n",
            "defusedxml                    0.7.1\n",
            "descartes                     1.1.0\n",
            "dill                          0.3.5.1\n",
            "distributed                   2022.2.0\n",
            "dlib                          19.24.0\n",
            "dm-tree                       0.1.7\n",
            "docutils                      0.17.1\n",
            "dopamine-rl                   1.0.5\n",
            "earthengine-api               0.1.321\n",
            "easydict                      1.9\n",
            "ecos                          2.0.10\n",
            "editdistance                  0.5.3\n",
            "en-core-web-sm                3.4.0\n",
            "entrypoints                   0.4\n",
            "ephem                         4.1.3\n",
            "et-xmlfile                    1.1.0\n",
            "etils                         0.7.1\n",
            "etuples                       0.3.5\n",
            "fa2                           0.3.5\n",
            "fastai                        2.7.9\n",
            "fastcore                      1.5.22\n",
            "fastdownload                  0.0.7\n",
            "fastdtw                       0.3.4\n",
            "fastjsonschema                2.16.1\n",
            "fastprogress                  1.0.3\n",
            "fastrlock                     0.8\n",
            "feather-format                0.4.1\n",
            "filelock                      3.8.0\n",
            "firebase-admin                4.4.0\n",
            "fix-yahoo-finance             0.0.22\n",
            "Flask                         1.1.4\n",
            "flatbuffers                   2.0.7\n",
            "folium                        0.12.1.post1\n",
            "frozenlist                    1.3.1\n",
            "fsspec                        2022.7.1\n",
            "future                        0.16.0\n",
            "gast                          0.5.3\n",
            "GDAL                          2.2.2\n",
            "gdown                         4.4.0\n",
            "gensim                        3.6.0\n",
            "geographiclib                 1.52\n",
            "geopy                         1.17.0\n",
            "gin-config                    0.5.0\n",
            "glob2                         0.7\n",
            "google                        2.0.3\n",
            "google-api-core               1.31.6\n",
            "google-api-python-client      1.12.11\n",
            "google-auth                   1.35.0\n",
            "google-auth-httplib2          0.0.4\n",
            "google-auth-oauthlib          0.4.6\n",
            "google-cloud-bigquery         1.21.0\n",
            "google-cloud-bigquery-storage 1.1.2\n",
            "google-cloud-core             1.0.3\n",
            "google-cloud-datastore        1.8.0\n",
            "google-cloud-firestore        1.7.0\n",
            "google-cloud-language         1.2.0\n",
            "google-cloud-storage          1.18.1\n",
            "google-cloud-translate        1.5.0\n",
            "google-colab                  1.0.0\n",
            "google-pasta                  0.2.0\n",
            "google-resumable-media        0.4.1\n",
            "googleapis-common-protos      1.56.4\n",
            "googledrivedownloader         0.4\n",
            "graphviz                      0.10.1\n",
            "greenlet                      1.1.3\n",
            "grpcio                        1.47.0\n",
            "gspread                       3.4.2\n",
            "gspread-dataframe             3.0.8\n",
            "gym                           0.25.2\n",
            "gym-notices                   0.0.8\n",
            "h5py                          3.1.0\n",
            "HeapDict                      1.0.1\n",
            "hijri-converter               2.2.4\n",
            "holidays                      0.15\n",
            "holoviews                     1.14.9\n",
            "html5lib                      1.0.1\n",
            "httpimport                    0.5.18\n",
            "httplib2                      0.17.4\n",
            "httplib2shim                  0.0.3\n",
            "httpstan                      4.6.1\n",
            "humanize                      0.5.1\n",
            "hyperopt                      0.1.2\n",
            "idna                          2.10\n",
            "imageio                       2.9.0\n",
            "imagesize                     1.4.1\n",
            "imbalanced-learn              0.8.1\n",
            "imblearn                      0.0\n",
            "imgaug                        0.4.0\n",
            "importlib-metadata            4.12.0\n",
            "importlib-resources           5.9.0\n",
            "imutils                       0.5.4\n",
            "inflect                       2.1.0\n",
            "intel-openmp                  2022.1.0\n",
            "intervaltree                  2.1.0\n",
            "ipykernel                     5.3.4\n",
            "ipython                       7.9.0\n",
            "ipython-genutils              0.2.0\n",
            "ipython-sql                   0.3.9\n",
            "ipywidgets                    7.7.1\n",
            "itsdangerous                  1.1.0\n",
            "jax                           0.3.14\n",
            "jaxlib                        0.3.14+cuda11.cudnn805\n",
            "jieba                         0.42.1\n",
            "Jinja2                        2.11.3\n",
            "joblib                        1.1.0\n",
            "jpeg4py                       0.1.4\n",
            "jsonschema                    4.3.3\n",
            "jupyter-client                6.1.12\n",
            "jupyter-console               6.1.0\n",
            "jupyter-core                  4.11.1\n",
            "jupyterlab-widgets            3.0.2\n",
            "kaggle                        1.5.12\n",
            "kapre                         0.3.7\n",
            "keras                         2.8.0\n",
            "Keras-Preprocessing           1.1.2\n",
            "keras-vis                     0.4.1\n",
            "kiwisolver                    1.4.4\n",
            "korean-lunar-calendar         0.2.1\n",
            "langcodes                     3.3.0\n",
            "libclang                      14.0.6\n",
            "librosa                       0.8.1\n",
            "lightgbm                      2.2.3\n",
            "llvmlite                      0.39.0\n",
            "lmdb                          0.99\n",
            "locket                        1.0.0\n",
            "logical-unification           0.4.5\n",
            "LunarCalendar                 0.0.9\n",
            "lxml                          4.9.1\n",
            "Markdown                      3.4.1\n",
            "MarkupSafe                    2.0.1\n",
            "marshmallow                   3.17.1\n",
            "matplotlib                    3.2.2\n",
            "matplotlib-venn               0.11.7\n",
            "miniKanren                    1.0.3\n",
            "missingno                     0.5.1\n",
            "mistune                       0.8.4\n",
            "mizani                        0.7.3\n",
            "mkl                           2019.0\n",
            "mlxtend                       0.14.0\n",
            "more-itertools                8.14.0\n",
            "moviepy                       0.2.3.5\n",
            "mpmath                        1.2.1\n",
            "msgpack                       1.0.4\n",
            "multidict                     6.0.2\n",
            "multipledispatch              0.6.0\n",
            "multitasking                  0.0.11\n",
            "murmurhash                    1.0.8\n",
            "music21                       5.5.0\n",
            "natsort                       5.5.0\n",
            "nbconvert                     5.6.1\n",
            "nbformat                      5.4.0\n",
            "netCDF4                       1.6.0\n",
            "networkx                      2.6.3\n",
            "nibabel                       3.0.2\n",
            "nltk                          3.7\n",
            "notebook                      5.3.1\n",
            "numba                         0.56.0\n",
            "numexpr                       2.8.3\n",
            "numpy                         1.21.6\n",
            "oauth2client                  4.1.3\n",
            "oauthlib                      3.2.0\n",
            "okgrade                       0.4.3\n",
            "opencv-contrib-python         4.6.0.66\n",
            "opencv-python                 4.6.0.66\n",
            "opencv-python-headless        4.6.0.66\n",
            "openpyxl                      3.0.10\n",
            "opt-einsum                    3.3.0\n",
            "osqp                          0.6.2.post0\n",
            "packaging                     21.3\n",
            "palettable                    3.3.0\n",
            "pandas                        1.3.5\n",
            "pandas-datareader             0.9.0\n",
            "pandas-gbq                    0.13.3\n",
            "pandas-profiling              1.4.1\n",
            "pandocfilters                 1.5.0\n",
            "panel                         0.12.1\n",
            "param                         1.12.2\n",
            "parso                         0.8.3\n",
            "partd                         1.3.0\n",
            "pastel                        0.2.1\n",
            "pathlib                       1.0.1\n",
            "pathy                         0.6.2\n",
            "patsy                         0.5.2\n",
            "pep517                        0.13.0\n",
            "pexpect                       4.8.0\n",
            "pickleshare                   0.7.5\n",
            "Pillow                        7.1.2\n",
            "pip                           21.1.3\n",
            "pip-tools                     6.2.0\n",
            "plotly                        5.5.0\n",
            "plotnine                      0.8.0\n",
            "pluggy                        0.7.1\n",
            "pooch                         1.6.0\n",
            "portpicker                    1.3.9\n",
            "prefetch-generator            1.0.1\n",
            "preshed                       3.0.7\n",
            "prettytable                   3.4.0\n",
            "progressbar2                  3.38.0\n",
            "promise                       2.3\n",
            "prompt-toolkit                2.0.10\n",
            "prophet                       1.1\n",
            "protobuf                      3.17.3\n",
            "psutil                        5.4.8\n",
            "psycopg2                      2.9.3\n",
            "ptyprocess                    0.7.0\n",
            "py                            1.11.0\n",
            "pyarrow                       6.0.1\n",
            "pyasn1                        0.4.8\n",
            "pyasn1-modules                0.2.8\n",
            "pycocotools                   2.0.4\n",
            "pycparser                     2.21\n",
            "pyct                          0.4.8\n",
            "pydantic                      1.9.2\n",
            "pydata-google-auth            1.4.0\n",
            "pydot                         1.3.0\n",
            "pydot-ng                      2.0.0\n",
            "pydotplus                     2.0.2\n",
            "PyDrive                       1.3.1\n",
            "pyemd                         0.5.1\n",
            "pyerfa                        2.0.0.1\n",
            "Pygments                      2.6.1\n",
            "pygobject                     3.26.1\n",
            "pylev                         1.4.0\n",
            "pymc                          4.1.4\n",
            "PyMeeus                       0.5.11\n",
            "pymongo                       4.2.0\n",
            "pymystem3                     0.2.0\n",
            "PyOpenGL                      3.1.6\n",
            "pyparsing                     3.0.9\n",
            "pyrsistent                    0.18.1\n",
            "pysimdjson                    3.2.0\n",
            "pysndfile                     1.3.8\n",
            "PySocks                       1.7.1\n",
            "pystan                        3.3.0\n",
            "pytest                        3.6.4\n",
            "python-apt                    0.0.0\n",
            "python-chess                  0.23.11\n",
            "python-dateutil               2.8.2\n",
            "python-louvain                0.16\n",
            "python-slugify                6.1.2\n",
            "python-utils                  3.3.3\n",
            "pytz                          2022.2.1\n",
            "pyviz-comms                   2.2.1\n",
            "PyWavelets                    1.3.0\n",
            "PyYAML                        6.0\n",
            "pyzmq                         23.2.1\n",
            "qdldl                         0.1.5.post2\n",
            "qudida                        0.0.4\n",
            "regex                         2022.6.2\n",
            "requests                      2.23.0\n",
            "requests-oauthlib             1.3.1\n",
            "resampy                       0.4.0\n",
            "rpy2                          3.4.5\n",
            "rsa                           4.9\n",
            "scikit-image                  0.18.3\n",
            "scikit-learn                  1.0.2\n",
            "scipy                         1.7.3\n",
            "screen-resolution-extra       0.0.0\n",
            "scs                           3.2.0\n",
            "seaborn                       0.11.2\n",
            "Send2Trash                    1.8.0\n",
            "setuptools                    57.4.0\n",
            "setuptools-git                1.2\n",
            "Shapely                       1.8.4\n",
            "six                           1.15.0\n",
            "sklearn-pandas                1.8.0\n",
            "smart-open                    5.2.1\n",
            "snowballstemmer               2.2.0\n",
            "sortedcontainers              2.4.0\n",
            "SoundFile                     0.10.3.post1\n",
            "spacy                         3.4.1\n",
            "spacy-legacy                  3.0.10\n",
            "spacy-loggers                 1.0.3\n",
            "Sphinx                        1.8.6\n",
            "sphinxcontrib-serializinghtml 1.1.5\n",
            "sphinxcontrib-websupport      1.2.4\n",
            "SQLAlchemy                    1.4.40\n",
            "sqlparse                      0.4.2\n",
            "srsly                         2.4.4\n",
            "statsmodels                   0.12.2\n",
            "sympy                         1.7.1\n",
            "tables                        3.7.0\n",
            "tabulate                      0.8.10\n",
            "tblib                         1.7.0\n",
            "tenacity                      8.0.1\n",
            "tensorboard                   2.8.0\n",
            "tensorboard-data-server       0.6.1\n",
            "tensorboard-plugin-wit        1.8.1\n",
            "tensorflow                    2.8.2+zzzcolab20220719082949\n",
            "tensorflow-datasets           4.6.0\n",
            "tensorflow-estimator          2.8.0\n",
            "tensorflow-gcs-config         2.8.0\n",
            "tensorflow-hub                0.12.0\n",
            "tensorflow-io-gcs-filesystem  0.26.0\n",
            "tensorflow-metadata           1.10.0\n",
            "tensorflow-probability        0.16.0\n",
            "termcolor                     1.1.0\n",
            "terminado                     0.13.3\n",
            "testpath                      0.6.0\n",
            "text-unidecode                1.3\n",
            "textblob                      0.15.3\n",
            "thinc                         8.1.0\n",
            "threadpoolctl                 3.1.0\n",
            "tifffile                      2021.11.2\n",
            "toml                          0.10.2\n",
            "tomli                         2.0.1\n",
            "toolz                         0.12.0\n",
            "torch                         1.12.1+cu113\n",
            "torchaudio                    0.12.1+cu113\n",
            "torchsummary                  1.5.1\n",
            "torchtext                     0.13.1\n",
            "torchvision                   0.13.1+cu113\n",
            "tornado                       5.1.1\n",
            "tqdm                          4.64.0\n",
            "traitlets                     5.1.1\n",
            "tweepy                        3.10.0\n",
            "typeguard                     2.7.1\n",
            "typer                         0.4.2\n",
            "typing-extensions             4.1.1\n",
            "tzlocal                       1.5.1\n",
            "ujson                         5.4.0\n",
            "uritemplate                   3.0.1\n",
            "urllib3                       1.24.3\n",
            "vega-datasets                 0.9.0\n",
            "wasabi                        0.10.1\n",
            "wcwidth                       0.2.5\n",
            "webargs                       8.2.0\n",
            "webencodings                  0.5.1\n",
            "Werkzeug                      1.0.1\n",
            "wheel                         0.37.1\n",
            "widgetsnbextension            3.6.1\n",
            "wordcloud                     1.8.2.2\n",
            "wrapt                         1.14.1\n",
            "xarray                        0.20.2\n",
            "xarray-einstats               0.2.2\n",
            "xgboost                       0.90\n",
            "xkit                          0.0.0\n",
            "xlrd                          1.1.0\n",
            "xlwt                          1.3.0\n",
            "yarl                          1.8.1\n",
            "yellowbrick                   1.5\n",
            "zict                          2.2.0\n",
            "zipp                          3.8.1\n"
          ]
        }
      ]
    },
    {
      "cell_type": "code",
      "execution_count": 3,
      "metadata": {
        "id": "QwtH-86-VnRs"
      },
      "outputs": [],
      "source": [
        "# torch가 설치되어 있지 않다면\n",
        "# https://pytorch.org 에서 환경에 맞는 command로 설치하거나\n",
        "# !pip install torch\n",
        "# 또는 !pip3 install torch (Python3 환경임을 명시)\n",
        "\n",
        "import torch"
      ]
    },
    {
      "cell_type": "markdown",
      "metadata": {
        "id": "4isdOwxZbfQy"
      },
      "source": [
        "### 1. Tensor란? Tensor 만들기\n",
        "\n",
        "* Tensors: Multidimensional arrays\n"
      ]
    },
    {
      "cell_type": "code",
      "execution_count": 4,
      "metadata": {
        "colab": {
          "base_uri": "https://localhost:8080/"
        },
        "id": "Pbbatb8lVBvs",
        "outputId": "3c7afdb5-ba66-4e1c-b073-def1f7a4d613",
        "scrolled": true
      },
      "outputs": [
        {
          "output_type": "stream",
          "name": "stdout",
          "text": [
            "tensor([1., 2., 3.])\n",
            "tensor([[1., 2., 3.],\n",
            "        [4., 5., 6.]])\n",
            "tensor([[[1., 2.],\n",
            "         [3., 4.]],\n",
            "\n",
            "        [[5., 6.],\n",
            "         [7., 8.]]])\n"
          ]
        }
      ],
      "source": [
        "# Create a torch.Tensor object with the given data.  It is a 1D vector\n",
        "V_data = [1., 2., 3.]\n",
        "V = torch.Tensor(V_data)\n",
        "print(V)\n",
        "\n",
        "# Creates a matrix\n",
        "M_data = [[1., 2., 3.], [4., 5., 6]]\n",
        "M = torch.Tensor(M_data)\n",
        "print(M)\n",
        "\n",
        "# Create a 3D tensor of size 2x2x2.\n",
        "T_data = [[[1.,2.], [3.,4.]],\n",
        "          [[5.,6.], [7.,8.]]]\n",
        "T = torch.Tensor(T_data)\n",
        "print(T)"
      ]
    },
    {
      "cell_type": "code",
      "execution_count": 5,
      "metadata": {
        "colab": {
          "base_uri": "https://localhost:8080/"
        },
        "id": "vVc3HcRTc1AD",
        "outputId": "7eff6b36-2025-4452-ad7c-26f3a15c52c7"
      },
      "outputs": [
        {
          "output_type": "stream",
          "name": "stdout",
          "text": [
            "tensor([1., 1., 1.])\n",
            "tensor([[1., 1., 1.],\n",
            "        [1., 1., 1.]])\n"
          ]
        }
      ],
      "source": [
        "# torch.ones: tensor를 size에 맞게 1로 채운다\n",
        "a = torch.ones(3)\n",
        "print(a)\n",
        "\n",
        "b = torch.ones(2, 3)\n",
        "print(b)"
      ]
    },
    {
      "cell_type": "code",
      "execution_count": 6,
      "metadata": {
        "colab": {
          "base_uri": "https://localhost:8080/"
        },
        "id": "4ju-BJS_dldu",
        "outputId": "513c91af-d304-42da-d411-f8d53b0d7dff"
      },
      "outputs": [
        {
          "output_type": "stream",
          "name": "stdout",
          "text": [
            "tensor([0., 0., 0., 0.])\n",
            "tensor([[[0., 0., 0.],\n",
            "         [0., 0., 0.]],\n",
            "\n",
            "        [[0., 0., 0.],\n",
            "         [0., 0., 0.]],\n",
            "\n",
            "        [[0., 0., 0.],\n",
            "         [0., 0., 0.]],\n",
            "\n",
            "        [[0., 0., 0.],\n",
            "         [0., 0., 0.]],\n",
            "\n",
            "        [[0., 0., 0.],\n",
            "         [0., 0., 0.]]])\n"
          ]
        }
      ],
      "source": [
        "# torch.zeros: tensor를 size에 맞게 0으로 채운다\n",
        "c = torch.zeros(4)\n",
        "print(c)\n",
        "\n",
        "d = torch.zeros(5, 2, 3)\n",
        "print(d)"
      ]
    },
    {
      "cell_type": "code",
      "execution_count": 7,
      "metadata": {
        "colab": {
          "base_uri": "https://localhost:8080/"
        },
        "id": "asRbDaQjSAUw",
        "outputId": "d48edfc3-c9c0-4144-b128-52f0fd2c0d38"
      },
      "outputs": [
        {
          "output_type": "stream",
          "name": "stdout",
          "text": [
            "tensor([[8.1842e-35, 0.0000e+00, 3.3631e-44],\n",
            "        [0.0000e+00,        nan, 0.0000e+00],\n",
            "        [1.1578e+27, 1.1362e+30, 7.1547e+22],\n",
            "        [4.5828e+30, 1.2121e+04, 7.1846e+22],\n",
            "        [9.2198e-39, 7.0374e+22, 0.0000e+00]])\n",
            "tensor([[0.6716, 0.4070, 0.5888],\n",
            "        [0.6045, 0.5901, 0.4424],\n",
            "        [0.8106, 0.8402, 0.5082],\n",
            "        [0.7239, 0.1599, 0.9257],\n",
            "        [0.1099, 0.0765, 0.3519]])\n"
          ]
        }
      ],
      "source": [
        "# 초기화하면서 현재 메모리에 존재하는 값\n",
        "x = torch.empty(5, 3)\n",
        "print(x)\n",
        "\n",
        "x = torch.rand(5, 3)\n",
        "print(x)"
      ]
    },
    {
      "cell_type": "code",
      "execution_count": 8,
      "metadata": {
        "colab": {
          "base_uri": "https://localhost:8080/"
        },
        "id": "LGi1jp7VqN2I",
        "outputId": "4f0899ca-5cd3-4471-b037-074384fbecf7"
      },
      "outputs": [
        {
          "output_type": "stream",
          "name": "stdout",
          "text": [
            "tensor([0.8425, 0.3293, 0.0431, 0.9464], dtype=torch.float64)\n",
            "tensor([[0.4337, 0.8476, 0.8706],\n",
            "        [0.6837, 0.4029, 0.6058]])\n"
          ]
        }
      ],
      "source": [
        "# torch.rand: 랜덤 숫자로 tensor를 채운다\n",
        "rand_points = torch.rand(4, dtype=torch.double)\n",
        "print(rand_points)\n",
        "\n",
        "rand_points_2 = torch.rand(2, 3, dtype=torch.float)\n",
        "print(rand_points_2)"
      ]
    },
    {
      "cell_type": "code",
      "execution_count": 9,
      "metadata": {
        "colab": {
          "base_uri": "https://localhost:8080/"
        },
        "id": "ZYklBMXLSAUy",
        "outputId": "90f60b41-9f8e-4a1e-8a60-3d115fa3fa95"
      },
      "outputs": [
        {
          "output_type": "stream",
          "name": "stdout",
          "text": [
            "torch.Size([2, 3])\n"
          ]
        }
      ],
      "source": [
        "# 행렬 사이즈\n",
        "print(rand_points_2.size())"
      ]
    },
    {
      "cell_type": "markdown",
      "metadata": {
        "id": "8oKuS5aSduU8"
      },
      "source": [
        "### 2. Indexing Tensors"
      ]
    },
    {
      "cell_type": "code",
      "execution_count": 10,
      "metadata": {
        "colab": {
          "base_uri": "https://localhost:8080/"
        },
        "id": "neAw8Z6xdr4b",
        "outputId": "9d3776f7-8f6e-4743-cb8f-55cfb57cdbcc"
      },
      "outputs": [
        {
          "output_type": "stream",
          "name": "stdout",
          "text": [
            "tensor([0., 1., 2., 3., 4., 5., 6., 7.])\n",
            "tensor([1., 2., 3.])\n",
            "tensor([1., 2., 3., 4., 5., 6., 7.])\n",
            "tensor([0., 1., 2., 3.])\n",
            "tensor(7.)\n",
            "tensor([0., 1., 2., 3., 4., 5., 6.])\n",
            "tensor([1., 3., 5.])\n"
          ]
        }
      ],
      "source": [
        "temp = torch.Tensor([0, 1, 2, 3, 4, 5, 6, 7])\n",
        "\n",
        "print(temp[:]) # tensor element 전체\n",
        "print(temp[1:4]) # index 1과 4 사이의 원소들 출력\n",
        "print(temp[1:]) # index 1부터의 원소들 출력\n",
        "print(temp[:4]) # index 4까지의 원소들 출력\n",
        "print(temp[-1]) # 뒤에서 첫번째 원소 출력\n",
        "print(temp[:-1]) # index -1 = 뒤에서부터 index 1에 해당하는 원소까지만 출력\n",
        "print(temp[1:6:2]) # index 1과 6 사이의 원소 출력, 이때 2개 단위로 건너뛰면서"
      ]
    },
    {
      "cell_type": "code",
      "execution_count": 11,
      "metadata": {
        "colab": {
          "base_uri": "https://localhost:8080/"
        },
        "id": "4WO5sfMIet7x",
        "outputId": "a5e1127a-c7f1-4815-f3b7-06a03ac23a9a"
      },
      "outputs": [
        {
          "output_type": "stream",
          "name": "stdout",
          "text": [
            "tensor([[1., 2., 3.],\n",
            "        [4., 5., 6.]])\n",
            "tensor([[4., 5., 6.]])\n",
            "tensor([[5., 6.]])\n",
            "tensor([4.])\n"
          ]
        }
      ],
      "source": [
        "temp2 = torch.Tensor([[1, 2, 3], [4, 5, 6]])\n",
        "\n",
        "print(temp2)\n",
        "print(temp2[1:])\n",
        "print(temp2[1:, 1:])\n",
        "print(temp2[1:, 0])"
      ]
    },
    {
      "cell_type": "markdown",
      "metadata": {
        "id": "S_udPVfjfomz"
      },
      "source": [
        "## 3. Tensor element types\n",
        "\n",
        "add 'dtype' argument to tensor constructors \n",
        "\n",
        "-> specify the data type that will be contained in the tensor\n",
        "\n",
        "dtype을 구성하는 것:\n",
        "- possible values the tensor can hold (int, float, ...)\n",
        "- number of bytes per value (8, 16, 32, ...)\n",
        "\n",
        "예)\n",
        "\n",
        "- torch.float32 (= torch.float): 32-bit floating point\n",
        "\n",
        "- torch.float64 (= torch.double): 64-bit, double-precision floating point\n",
        "\n",
        "- torch.float16 (= torch.half): 16-bit, half-precision floating point\n",
        "\n",
        "- torch.int32 (= torch.int): 32-bit integers\n",
        "\n",
        "- torch.int64 (= torch.long): 64-bit integers\n",
        "\n",
        "- torch.bool: Boolean\n",
        "\n",
        "...\n",
        "\n"
      ]
    },
    {
      "cell_type": "code",
      "execution_count": 12,
      "metadata": {
        "colab": {
          "base_uri": "https://localhost:8080/"
        },
        "id": "rgq_coZiiWSs",
        "outputId": "bfee5031-a6b9-4cad-d2db-651b67a5cc6b"
      },
      "outputs": [
        {
          "output_type": "stream",
          "name": "stdout",
          "text": [
            "tensor([[1., 1.],\n",
            "        [1., 1.],\n",
            "        [1., 1.],\n",
            "        [1., 1.],\n",
            "        [1., 1.]])\n",
            "tensor([0, 0, 0])\n"
          ]
        }
      ],
      "source": [
        "float_points = torch.ones(5, 2, dtype=torch.float32)\n",
        "int_points = torch.zeros(3, dtype=torch.int64)\n",
        "\n",
        "print(float_points)\n",
        "print(int_points)"
      ]
    },
    {
      "cell_type": "code",
      "execution_count": 13,
      "metadata": {
        "colab": {
          "base_uri": "https://localhost:8080/"
        },
        "id": "po8KyFFaj30-",
        "outputId": "f6260e55-f8d3-4d60-cfe4-75185cb0aece"
      },
      "outputs": [
        {
          "output_type": "stream",
          "name": "stdout",
          "text": [
            "tensor([2., 2.])\n"
          ]
        }
      ],
      "source": [
        "# default: float\n",
        "default_points = torch.Tensor([2, 2])\n",
        "print(default_points)"
      ]
    },
    {
      "cell_type": "code",
      "execution_count": 14,
      "metadata": {
        "colab": {
          "base_uri": "https://localhost:8080/"
        },
        "id": "XMaXu5o_j6-s",
        "outputId": "fc3320b4-fce9-4e84-bea9-c6502ae97a80"
      },
      "outputs": [
        {
          "output_type": "stream",
          "name": "stdout",
          "text": [
            "torch.float32\n",
            "torch.int64\n",
            "torch.float32\n"
          ]
        }
      ],
      "source": [
        "# find out dtype\n",
        "print(float_points.dtype)\n",
        "print(int_points.dtype)\n",
        "print(default_points.dtype)"
      ]
    },
    {
      "cell_type": "code",
      "execution_count": 15,
      "metadata": {
        "colab": {
          "base_uri": "https://localhost:8080/"
        },
        "id": "mwFvF367kT-U",
        "outputId": "89cb7f93-5557-4a7a-9dfa-39d555945ef3"
      },
      "outputs": [
        {
          "output_type": "stream",
          "name": "stdout",
          "text": [
            "torch.int32\n",
            "torch.int64\n",
            "torch.float32\n",
            "torch.float16\n"
          ]
        }
      ],
      "source": [
        "# other forms of specifying dtype\n",
        "\n",
        "to_int_1 = float_points.int()\n",
        "print(to_int_1.dtype)\n",
        "\n",
        "# 'to' checks whether the conversion is necessary and if so, does it.\n",
        "to_int_2 = float_points.to(torch.int64)\n",
        "print(to_int_2.dtype)\n",
        "\n",
        "to_float_1 = int_points.float()\n",
        "print(to_float_1.dtype)\n",
        "\n",
        "to_float_2 = int_points.to(dtype=torch.float16)\n",
        "print(to_float_2.dtype)\n"
      ]
    },
    {
      "cell_type": "markdown",
      "metadata": {
        "id": "M2Ho6YMFljQo"
      },
      "source": [
        "## 4. The Tensor API\n",
        "\n",
        "tensor와 관련된 대부분의 operation은 torch 모듈에 구현되어 있음\n",
        "\n",
        "예)\n",
        "\n",
        "- math operations: abs, cos, mean, std, norm, equal, max, ...\n",
        "- tensor element-wise sum, concat, ...\n",
        "- random sampling: randn, normal, ...\n",
        "\n",
        "online docs: https://pytorch.org/docs\n"
      ]
    },
    {
      "cell_type": "markdown",
      "metadata": {
        "id": "OfPHhJsnmJQe"
      },
      "source": [
        "## 5. Tensor Shape and Reshape\n"
      ]
    },
    {
      "cell_type": "code",
      "execution_count": 16,
      "metadata": {
        "colab": {
          "base_uri": "https://localhost:8080/"
        },
        "id": "rVeNlalxn2Cw",
        "outputId": "6c7d44c4-d8ed-4270-e905-bfbbdb7c025b"
      },
      "outputs": [
        {
          "output_type": "stream",
          "name": "stdout",
          "text": [
            "tensor([[1., 2., 3.],\n",
            "        [4., 5., 6.]])\n",
            "torch.Size([2, 3])\n"
          ]
        }
      ],
      "source": [
        "# shape: Returns the size of the tensor\n",
        "\n",
        "a = torch.Tensor([[1, 2, 3], [4, 5, 6]])\n",
        "\n",
        "print(a)\n",
        "print(a.shape)\n"
      ]
    },
    {
      "cell_type": "code",
      "execution_count": 17,
      "metadata": {
        "colab": {
          "base_uri": "https://localhost:8080/"
        },
        "id": "6UUPsdOLrCW6",
        "outputId": "57c04c49-cf24-4cf1-8ba0-1cca977a36dd"
      },
      "outputs": [
        {
          "output_type": "stream",
          "name": "stdout",
          "text": [
            "torch.Size([2, 3])\n"
          ]
        }
      ],
      "source": [
        "# size()\n",
        "\n",
        "print(a.size())"
      ]
    },
    {
      "cell_type": "code",
      "execution_count": 18,
      "metadata": {
        "colab": {
          "base_uri": "https://localhost:8080/"
        },
        "id": "Ot2sY3g0oawP",
        "outputId": "e03b4688-0d65-4b0f-b618-f71fde22c28c"
      },
      "outputs": [
        {
          "output_type": "stream",
          "name": "stdout",
          "text": [
            "tensor([[1., 2.],\n",
            "        [3., 4.],\n",
            "        [5., 6.]])\n",
            "torch.Size([3, 2])\n",
            "tensor([[1., 2.],\n",
            "        [3., 4.],\n",
            "        [5., 6.]])\n",
            "torch.Size([3, 2])\n"
          ]
        }
      ],
      "source": [
        "# Reshape: 주어진 shape로 original tensor에서 데이터를 가져와서 reshape한다\n",
        "\n",
        "a_reshape = a.reshape(3, 2)\n",
        "print(a_reshape)\n",
        "print(a_reshape.shape)\n",
        "\n",
        "a_reshape_2 = a.reshape(-1, 2) # the size -1 is inferred from other dimensions\n",
        "print(a_reshape_2)\n",
        "print(a_reshape_2.shape)"
      ]
    },
    {
      "cell_type": "code",
      "execution_count": 19,
      "metadata": {
        "colab": {
          "base_uri": "https://localhost:8080/",
          "height": 184
        },
        "id": "jmZpgwXfpDx-",
        "outputId": "259c370a-2035-4abf-b393-950c4e534d82"
      },
      "outputs": [
        {
          "output_type": "error",
          "ename": "RuntimeError",
          "evalue": "ignored",
          "traceback": [
            "\u001b[0;31m---------------------------------------------------------------------------\u001b[0m",
            "\u001b[0;31mRuntimeError\u001b[0m                              Traceback (most recent call last)",
            "\u001b[0;32m<ipython-input-19-1e7ad2969007>\u001b[0m in \u001b[0;36m<module>\u001b[0;34m\u001b[0m\n\u001b[1;32m      1\u001b[0m \u001b[0;31m# if shape is not compatible with the current shape:\u001b[0m\u001b[0;34m\u001b[0m\u001b[0;34m\u001b[0m\u001b[0;34m\u001b[0m\u001b[0m\n\u001b[0;32m----> 2\u001b[0;31m \u001b[0ma_no_reshape\u001b[0m \u001b[0;34m=\u001b[0m \u001b[0ma\u001b[0m\u001b[0;34m.\u001b[0m\u001b[0mreshape\u001b[0m\u001b[0;34m(\u001b[0m\u001b[0;36m4\u001b[0m\u001b[0;34m,\u001b[0m \u001b[0;36m2\u001b[0m\u001b[0;34m)\u001b[0m\u001b[0;34m\u001b[0m\u001b[0;34m\u001b[0m\u001b[0m\n\u001b[0m",
            "\u001b[0;31mRuntimeError\u001b[0m: shape '[4, 2]' is invalid for input of size 6"
          ]
        }
      ],
      "source": [
        "# if shape is not compatible with the current shape:\n",
        "a_no_reshape = a.reshape(4, 2)"
      ]
    },
    {
      "cell_type": "code",
      "execution_count": 20,
      "metadata": {
        "colab": {
          "base_uri": "https://localhost:8080/"
        },
        "id": "l7YPGgQTpnWN",
        "outputId": "2e7a42c3-282b-460f-cef6-e4341d92a052"
      },
      "outputs": [
        {
          "output_type": "stream",
          "name": "stdout",
          "text": [
            "torch.Size([4, 4])\n",
            "torch.Size([16])\n",
            "torch.Size([2, 8])\n"
          ]
        }
      ],
      "source": [
        "# View: Returns a new tensor with the same data as the original tensor but of a different shape.\n",
        "# reshape과 거의 비슷하게 사용\n",
        "\n",
        "x = torch.randn(4, 4)\n",
        "print(x.size())\n",
        "\n",
        "y = x.view(16)\n",
        "print(y.size())\n",
        "\n",
        "z = x.view(-1, 8)  # the size -1 is inferred from other dimensions\n",
        "print(z.size())"
      ]
    },
    {
      "cell_type": "markdown",
      "metadata": {
        "id": "NaRU1c5Er3r-"
      },
      "source": [
        "## 6. Transpose"
      ]
    },
    {
      "cell_type": "code",
      "execution_count": 22,
      "metadata": {
        "colab": {
          "base_uri": "https://localhost:8080/"
        },
        "id": "R0-zLDjYsyyG",
        "outputId": "97066c08-887f-4486-87ae-b81061d48dcb"
      },
      "outputs": [
        {
          "output_type": "stream",
          "name": "stdout",
          "text": [
            "tensor([-0.8704])\n",
            "tensor([-0.8704])\n",
            "tensor([ 1.1973,  0.7078, -0.1636])\n",
            "tensor([ 1.1973,  0.7078, -0.1636])\n",
            "tensor([[-0.3121, -1.7858, -0.9087],\n",
            "        [-2.0189, -1.7410,  0.5253]])\n",
            "tensor([[-0.3121, -2.0189],\n",
            "        [-1.7858, -1.7410],\n",
            "        [-0.9087,  0.5253]])\n"
          ]
        }
      ],
      "source": [
        "# torch.t: 가장 간단한 형태의 transpose\n",
        "# Expects input to be <= 2-D tensor and transposes dimensions 0 and 1.\n",
        "# 0-D and 1-D tensors are returned as is. When input is a 2-D tensor this is equivalent to transpose(input, 0, 1).\n",
        "\n",
        "x = torch.randn(1)\n",
        "print(x)\n",
        "print(torch.t(x))\n",
        "\n",
        "y = torch.randn(3)\n",
        "print(y)\n",
        "print(torch.t(y))\n",
        "\n",
        "z = torch.randn(2, 3)\n",
        "print(z)\n",
        "print(torch.t(z))"
      ]
    },
    {
      "cell_type": "code",
      "execution_count": 23,
      "metadata": {
        "colab": {
          "base_uri": "https://localhost:8080/"
        },
        "id": "RjM2mMhbs8Tc",
        "outputId": "2c1d97a9-0908-4737-b8c1-266b689f1b81"
      },
      "outputs": [
        {
          "output_type": "stream",
          "name": "stdout",
          "text": [
            "tensor([[-0.8484, -0.1848, -1.0985],\n",
            "        [ 0.4142,  0.7245,  0.4809]])\n",
            "tensor([[-0.8484,  0.4142],\n",
            "        [-0.1848,  0.7245],\n",
            "        [-1.0985,  0.4809]])\n"
          ]
        }
      ],
      "source": [
        "# torch.transpose\n",
        "# Returns a tensor that is a transposed version of input. The given dimensions dim0 and dim1 are swapped.\n",
        "\n",
        "w = torch.randn(2, 3)\n",
        "print(w)\n",
        "print(torch.transpose(w, 0, 1))"
      ]
    },
    {
      "cell_type": "code",
      "execution_count": 24,
      "metadata": {
        "colab": {
          "base_uri": "https://localhost:8080/"
        },
        "id": "XLJ41HTAtoHL",
        "outputId": "93328424-dc3b-401c-bd3e-6bb9e6504111"
      },
      "outputs": [
        {
          "output_type": "stream",
          "name": "stdout",
          "text": [
            "torch.Size([64, 128, 768])\n",
            "torch.Size([64, 768, 128])\n"
          ]
        }
      ],
      "source": [
        "# more complex case\n",
        "\n",
        "real_example = torch.randn(64, 128, 768)\n",
        "print(real_example.shape)\n",
        "transposed = torch.transpose(real_example, 1, 2)\n",
        "print(transposed.shape)"
      ]
    },
    {
      "cell_type": "markdown",
      "metadata": {
        "id": "yMbqyUxkSAU4"
      },
      "source": [
        "## 7. Operations Example"
      ]
    },
    {
      "cell_type": "code",
      "execution_count": 25,
      "metadata": {
        "colab": {
          "base_uri": "https://localhost:8080/"
        },
        "id": "74PEizGpSAU4",
        "outputId": "45b22634-25e3-4c56-9648-27efeecf2d59"
      },
      "outputs": [
        {
          "output_type": "stream",
          "name": "stdout",
          "text": [
            "tensor([[1., 1.]])\n",
            "tensor([[1., 1., 1.],\n",
            "        [1., 1., 1.],\n",
            "        [1., 1., 1.],\n",
            "        [1., 1., 1.],\n",
            "        [1., 1., 1.]])\n"
          ]
        }
      ],
      "source": [
        "x = torch.ones(1, 2)\n",
        "print(x)\n",
        "y = torch.ones(5, 3)\n",
        "print(y)"
      ]
    },
    {
      "cell_type": "code",
      "execution_count": 26,
      "metadata": {
        "colab": {
          "base_uri": "https://localhost:8080/",
          "height": 166
        },
        "id": "81fFKwGsSAU4",
        "outputId": "cbe483a2-4a80-4f6f-8a3b-cba495a06e54"
      },
      "outputs": [
        {
          "output_type": "error",
          "ename": "RuntimeError",
          "evalue": "ignored",
          "traceback": [
            "\u001b[0;31m---------------------------------------------------------------------------\u001b[0m",
            "\u001b[0;31mRuntimeError\u001b[0m                              Traceback (most recent call last)",
            "\u001b[0;32m<ipython-input-26-39cb3db33052>\u001b[0m in \u001b[0;36m<module>\u001b[0;34m\u001b[0m\n\u001b[0;32m----> 1\u001b[0;31m \u001b[0mprint\u001b[0m\u001b[0;34m(\u001b[0m\u001b[0mx\u001b[0m\u001b[0;34m+\u001b[0m\u001b[0my\u001b[0m\u001b[0;34m)\u001b[0m\u001b[0;34m\u001b[0m\u001b[0;34m\u001b[0m\u001b[0m\n\u001b[0m",
            "\u001b[0;31mRuntimeError\u001b[0m: The size of tensor a (2) must match the size of tensor b (3) at non-singleton dimension 1"
          ]
        }
      ],
      "source": [
        "# 적어도 행 또는 열이 같아야 한다!\n",
        "print(x+y)"
      ]
    },
    {
      "cell_type": "code",
      "execution_count": 28,
      "metadata": {
        "colab": {
          "base_uri": "https://localhost:8080/"
        },
        "id": "sRcWMco9SAU5",
        "outputId": "af19d3e7-4a46-4a2d-86a2-fba7b8fa33d5"
      },
      "outputs": [
        {
          "output_type": "stream",
          "name": "stdout",
          "text": [
            "tensor([[1., 1.],\n",
            "        [1., 1.],\n",
            "        [1., 1.],\n",
            "        [1., 1.],\n",
            "        [1., 1.]])\n",
            "tensor([[2., 2.],\n",
            "        [2., 2.],\n",
            "        [2., 2.],\n",
            "        [2., 2.],\n",
            "        [2., 2.]])\n",
            "tensor([[2., 2.],\n",
            "        [2., 2.],\n",
            "        [2., 2.],\n",
            "        [2., 2.],\n",
            "        [2., 2.]])\n",
            "tensor([[2., 2.],\n",
            "        [2., 2.],\n",
            "        [2., 2.],\n",
            "        [2., 2.],\n",
            "        [2., 2.]])\n",
            "tensor([[2., 2.],\n",
            "        [2., 2.],\n",
            "        [2., 2.],\n",
            "        [2., 2.],\n",
            "        [2., 2.]])\n"
          ]
        }
      ],
      "source": [
        "y = torch.ones(5, 2)\n",
        "print(y)\n",
        "\n",
        "# Tensor는 np와 달리 미리 공간이 잡혀있다고 생각하면 좋다!\n",
        "\n",
        "# 1.\n",
        "print(x+y)\n",
        "# 2. \n",
        "print(torch.add(x, y))\n",
        "# 3.\n",
        "result = torch.empty(5, 2)\n",
        "torch.add(x, y, out=result)\n",
        "print(result)\n",
        "# 4. inplace\n",
        "print(y.add_(x))"
      ]
    },
    {
      "cell_type": "markdown",
      "metadata": {
        "id": "tDMVbQUPSAU5"
      },
      "source": [
        "### Additional Information\n",
        "- torch 연산(transpose, indexing, slicing, mathematical operations, linear algebra 등)은 아래 링크에서 추가로 확인 가능\n",
        "- https://pytorch.org/docs/stable/torch.html"
      ]
    },
    {
      "cell_type": "markdown",
      "metadata": {
        "id": "qjumWQBhuKsn"
      },
      "source": [
        "### Reference: Moving tensors to the GPU\n",
        "\n",
        "if you are using Google Colaboratory, please set the runtime type to GPUs.\n",
        "\n",
        "화면 상단 **런타임 >> 런타임 유형 변경 >> 하드웨어 가속기 GPU 선택**\n"
      ]
    },
    {
      "cell_type": "code",
      "execution_count": 29,
      "metadata": {
        "colab": {
          "base_uri": "https://localhost:8080/"
        },
        "id": "M8J4RIduSAU5",
        "outputId": "e8bf21de-d8f9-4690-f1ea-a2345f09fc61"
      },
      "outputs": [
        {
          "output_type": "execute_result",
          "data": {
            "text/plain": [
              "True"
            ]
          },
          "metadata": {},
          "execution_count": 29
        }
      ],
      "source": [
        "torch.cuda.is_available()"
      ]
    },
    {
      "cell_type": "code",
      "execution_count": 30,
      "metadata": {
        "colab": {
          "base_uri": "https://localhost:8080/"
        },
        "id": "5QxizvAxu8df",
        "outputId": "7309a2f3-49f0-4e45-b468-d3b6063fe20c"
      },
      "outputs": [
        {
          "output_type": "stream",
          "name": "stdout",
          "text": [
            "tensor([[4., 1.],\n",
            "        [5., 3.],\n",
            "        [2., 1.]], device='cuda:0')\n"
          ]
        }
      ],
      "source": [
        "import torch # 런타임 유형을 변경하면 colab 세션이 초기화될 수 있음\n",
        "\n",
        "points_gpu = torch.tensor([[4.0, 1.0], [5.0, 3.0], [2.0, 1.0]], device='cuda')\n",
        "\n",
        "print(points_gpu)"
      ]
    },
    {
      "cell_type": "code",
      "execution_count": 31,
      "metadata": {
        "colab": {
          "base_uri": "https://localhost:8080/"
        },
        "id": "of1nZPe-wThd",
        "outputId": "73651d0d-8874-40ad-b74e-d8c431bdec39"
      },
      "outputs": [
        {
          "output_type": "stream",
          "name": "stdout",
          "text": [
            "tensor([[ 0.7789,  0.5335,  0.0031],\n",
            "        [-0.8024, -0.8180, -0.8044]], device='cuda:0')\n"
          ]
        }
      ],
      "source": [
        "points = torch.randn(2, 3)\n",
        "points_gpu = points.to(device='cuda')\n",
        "\n",
        "print(points_gpu)"
      ]
    },
    {
      "cell_type": "markdown",
      "metadata": {
        "id": "hvPB3ixRwKQu"
      },
      "source": [
        "If our machine has more than one GPU, we can also decide on which GPU we allocate the tensor by passing a zero-based integer identifying the GPU on the machine, such as cuda:0, cuda:1, ..."
      ]
    },
    {
      "cell_type": "code",
      "execution_count": null,
      "metadata": {
        "id": "r24Gocegv7l6"
      },
      "outputs": [],
      "source": [
        "points_gpu_0 = points.to(device='cuda:0')\n",
        "print(points_gpu_0)"
      ]
    },
    {
      "cell_type": "code",
      "execution_count": null,
      "metadata": {
        "id": "nx9QcSKdwo07"
      },
      "outputs": [],
      "source": [
        "# operations performed on CPU and GPU\n",
        "\n",
        "points = 2 * points   # cpu에서 계산 수행\n",
        "print(points)\n",
        "\n",
        "points_op_gpu = 2 * points.to(device='cuda')  # gpu에서 계산 수행\n",
        "print(points_op_gpu)"
      ]
    },
    {
      "cell_type": "code",
      "execution_count": null,
      "metadata": {
        "id": "JSeaQodKw6cS"
      },
      "outputs": [],
      "source": [
        "# move the tensor back to the CPU\n",
        "\n",
        "points_cpu = points_gpu_0.to(device='cpu')\n",
        "print(points_cpu)\n",
        "print(points_cpu.device)"
      ]
    },
    {
      "cell_type": "code",
      "execution_count": null,
      "metadata": {
        "id": "RIjlkk3nxn9j"
      },
      "outputs": [],
      "source": [
        "# shorter forms\n",
        "points_gpu = points.cuda()\n",
        "print(points_gpu)\n",
        "\n",
        "points_gpu = points.cuda(0)\n",
        "print(points_gpu)\n",
        "\n",
        "points_cpu = points_gpu.cpu()\n",
        "print(points_cpu)"
      ]
    },
    {
      "cell_type": "markdown",
      "metadata": {
        "id": "v03s7CHNx0Yz"
      },
      "source": [
        "## 8. Numpy Interpretability\n",
        "\n",
        "PyTorch tensors can be converted to NumPy arrays and vice versa very efficiently."
      ]
    },
    {
      "cell_type": "code",
      "execution_count": 33,
      "metadata": {
        "colab": {
          "base_uri": "https://localhost:8080/"
        },
        "id": "Ak0fmFWOx3ij",
        "outputId": "d0b7a5d5-c8b4-4066-b8e4-f8e272cba864"
      },
      "outputs": [
        {
          "output_type": "stream",
          "name": "stdout",
          "text": [
            "[[1. 1. 1. 1.]\n",
            " [1. 1. 1. 1.]\n",
            " [1. 1. 1. 1.]]\n"
          ]
        },
        {
          "output_type": "execute_result",
          "data": {
            "text/plain": [
              "numpy.ndarray"
            ]
          },
          "metadata": {},
          "execution_count": 33
        }
      ],
      "source": [
        "# tensor to numpy array\n",
        "\n",
        "points = torch.ones(3, 4)\n",
        "points_np = points.numpy()\n",
        "\n",
        "print(points_np)\n",
        "type(points_np)"
      ]
    },
    {
      "cell_type": "code",
      "execution_count": 34,
      "metadata": {
        "colab": {
          "base_uri": "https://localhost:8080/"
        },
        "id": "ACS2KBbWyJDZ",
        "outputId": "09a2905f-749e-4a27-b989-052eaf9856ce"
      },
      "outputs": [
        {
          "output_type": "stream",
          "name": "stdout",
          "text": [
            "tensor([[1., 1., 1., 1.],\n",
            "        [1., 1., 1., 1.],\n",
            "        [1., 1., 1., 1.]])\n"
          ]
        },
        {
          "output_type": "execute_result",
          "data": {
            "text/plain": [
              "torch.Tensor"
            ]
          },
          "metadata": {},
          "execution_count": 34
        }
      ],
      "source": [
        "# numpy arrray to tensor\n",
        "\n",
        "points = torch.from_numpy(points_np)\n",
        "\n",
        "print(points)\n",
        "type(points)"
      ]
    },
    {
      "cell_type": "markdown",
      "metadata": {
        "id": "qKvQhwT9yVJp"
      },
      "source": [
        "## 9. Save and load tensors\n",
        "\n",
        "save tensors to a file and load them back at some point\n",
        "\n",
        "PyTorch uses pickle under the hood to serialize the tensor object, plus dedicated serialization code for the storage."
      ]
    },
    {
      "cell_type": "code",
      "execution_count": null,
      "metadata": {
        "id": "Spxqbf_kyYaa"
      },
      "outputs": [],
      "source": [
        "print(points)\n",
        "\n",
        "torch.save(points, './points_temp.t')"
      ]
    },
    {
      "cell_type": "code",
      "execution_count": null,
      "metadata": {
        "id": "m59EIW7p0N-2"
      },
      "outputs": [],
      "source": [
        "load_points = torch.load('./points_temp.t')\n",
        "print(load_points)"
      ]
    }
  ],
  "metadata": {
    "accelerator": "GPU",
    "colab": {
      "collapsed_sections": [],
      "provenance": [],
      "include_colab_link": true
    },
    "kernelspec": {
      "display_name": "Python 3",
      "language": "python",
      "name": "python3"
    },
    "language_info": {
      "codemirror_mode": {
        "name": "ipython",
        "version": 3
      },
      "file_extension": ".py",
      "mimetype": "text/x-python",
      "name": "python",
      "nbconvert_exporter": "python",
      "pygments_lexer": "ipython3",
      "version": "3.7.7"
    },
    "gpuClass": "standard"
  },
  "nbformat": 4,
  "nbformat_minor": 0
}