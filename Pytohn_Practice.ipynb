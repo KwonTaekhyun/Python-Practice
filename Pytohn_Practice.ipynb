{
  "nbformat": 4,
  "nbformat_minor": 0,
  "metadata": {
    "colab": {
      "provenance": [],
      "collapsed_sections": [],
      "authorship_tag": "ABX9TyNa/vbgBqlwtBN7cRD8h1Tg",
      "include_colab_link": true
    },
    "kernelspec": {
      "name": "python3",
      "display_name": "Python 3"
    },
    "language_info": {
      "name": "python"
    }
  },
  "cells": [
    {
      "cell_type": "markdown",
      "metadata": {
        "id": "view-in-github",
        "colab_type": "text"
      },
      "source": [
        "<a href=\"https://colab.research.google.com/github/KwonTaekhyun/Python-Practice/blob/main/Pytohn_Practice.ipynb\" target=\"_parent\"><img src=\"https://colab.research.google.com/assets/colab-badge.svg\" alt=\"Open In Colab\"/></a>"
      ]
    },
    {
      "cell_type": "code",
      "execution_count": 1,
      "metadata": {
        "colab": {
          "base_uri": "https://localhost:8080/"
        },
        "id": "r_Y90N4iQMSg",
        "outputId": "be7a2656-18a4-4dd0-fad9-7256661f3b8f"
      },
      "outputs": [
        {
          "output_type": "stream",
          "name": "stdout",
          "text": [
            "Python 3.7.13\n"
          ]
        }
      ],
      "source": [
        "!python --version"
      ]
    },
    {
      "cell_type": "code",
      "source": [
        "def quicksort(arr):\n",
        "  if len(arr) <= 1:\n",
        "    return arr\n",
        "  pivot = arr[len(arr) // 2]\n",
        "  left = [x for x in arr if x < pivot]\n",
        "  middle = [x for x in arr if x == pivot]\n",
        "  right = [x for x in arr if x > pivot]\n",
        "  return quicksort(left) + middle + quicksort(right)\n",
        "\n",
        "print(quicksort([3,6,8,10,1,2,1]))"
      ],
      "metadata": {
        "colab": {
          "base_uri": "https://localhost:8080/"
        },
        "id": "2qUbUGdXSWlr",
        "outputId": "bc519321-bb18-45e9-d809-bf794b417256"
      },
      "execution_count": 2,
      "outputs": [
        {
          "output_type": "stream",
          "name": "stdout",
          "text": [
            "[1, 1, 2, 3, 6, 8, 10]\n"
          ]
        }
      ]
    },
    {
      "cell_type": "code",
      "source": [
        "t, f = True, False\n",
        "print(t, f)"
      ],
      "metadata": {
        "colab": {
          "base_uri": "https://localhost:8080/"
        },
        "id": "CX6uQDgHT26M",
        "outputId": "37898bc2-2873-41c3-f613-6f8745130769"
      },
      "execution_count": 3,
      "outputs": [
        {
          "output_type": "stream",
          "name": "stdout",
          "text": [
            "True False\n"
          ]
        }
      ]
    },
    {
      "cell_type": "code",
      "source": [
        "animals = ['cat', 'dog', 'monkey']\n",
        "for idx, animal in enumerate(animals):\n",
        "  print('#{}: {}'.format(idx + 1, animal))"
      ],
      "metadata": {
        "colab": {
          "base_uri": "https://localhost:8080/"
        },
        "id": "TKvP_lEsWBpf",
        "outputId": "a380c664-1012-4637-c718-3ba5fa013498"
      },
      "execution_count": 4,
      "outputs": [
        {
          "output_type": "stream",
          "name": "stdout",
          "text": [
            "#1: cat\n",
            "#2: dog\n",
            "#3: monkey\n"
          ]
        }
      ]
    },
    {
      "cell_type": "code",
      "source": [
        "nums = [0, 1, 2, 3, 4]\n",
        "squares = [x ** 2 for x in nums if x % 2 == 0]\n",
        "print(squares)"
      ],
      "metadata": {
        "colab": {
          "base_uri": "https://localhost:8080/"
        },
        "id": "vnabwnooWoBX",
        "outputId": "7e17cfde-ae5f-46ce-c922-58255beb2344"
      },
      "execution_count": 5,
      "outputs": [
        {
          "output_type": "stream",
          "name": "stdout",
          "text": [
            "[0, 4, 16]\n"
          ]
        }
      ]
    },
    {
      "cell_type": "code",
      "source": [
        "squares2 = {x: x ** 2 for x in nums if x % 2 == 0}\n",
        "print(squares2.get(2))"
      ],
      "metadata": {
        "colab": {
          "base_uri": "https://localhost:8080/"
        },
        "id": "eGhPxBRLXiHF",
        "outputId": "acfa4d0e-71ad-41e8-cc62-7659fcde6da5"
      },
      "execution_count": 7,
      "outputs": [
        {
          "output_type": "stream",
          "name": "stdout",
          "text": [
            "4\n"
          ]
        }
      ]
    },
    {
      "cell_type": "code",
      "source": [
        "d = {'person': 2, 'cat': 4, 'spider': 8}\n",
        "for animal, legs in d.items():\n",
        "  print('A {} has {} legs'.format(animal, legs))"
      ],
      "metadata": {
        "colab": {
          "base_uri": "https://localhost:8080/"
        },
        "id": "DXco8vUjX68a",
        "outputId": "1839bc15-e13a-419b-f5a7-cd411c97cf55"
      },
      "execution_count": 8,
      "outputs": [
        {
          "output_type": "stream",
          "name": "stdout",
          "text": [
            "A person has 2 legs\n",
            "A cat has 4 legs\n",
            "A spider has 8 legs\n"
          ]
        }
      ]
    },
    {
      "cell_type": "code",
      "source": [
        "from math import sqrt\n",
        "print({int(sqrt(x)) for x in range(30)})"
      ],
      "metadata": {
        "colab": {
          "base_uri": "https://localhost:8080/"
        },
        "id": "VoUrShn0YsWm",
        "outputId": "e54904b8-7f03-40c8-f3b4-fd4871e2dca1"
      },
      "execution_count": 9,
      "outputs": [
        {
          "output_type": "stream",
          "name": "stdout",
          "text": [
            "{0, 1, 2, 3, 4, 5}\n"
          ]
        }
      ]
    },
    {
      "cell_type": "code",
      "source": [
        "class Greeter:\n",
        "  def __init__(self, name):\n",
        "    self.name = name\n",
        "  def greet(self, loud=False):\n",
        "    if loud:\n",
        "      print('HELLO, {}'.format(self.name.upper()))\n",
        "    else:\n",
        "      print('Hello, {}'.format(self.name))\n",
        "\n",
        "g = Greeter('Taekhyun')\n",
        "g.greet()\n",
        "g.greet(loud=True)"
      ],
      "metadata": {
        "colab": {
          "base_uri": "https://localhost:8080/"
        },
        "id": "xCXrCdd3a79i",
        "outputId": "0d595d7f-bd63-43e5-8240-a6a083efb7b3"
      },
      "execution_count": 16,
      "outputs": [
        {
          "output_type": "stream",
          "name": "stdout",
          "text": [
            "Hello, Taekhyun\n",
            "HELLO, TAEKHYUN\n"
          ]
        }
      ]
    }
  ]
}